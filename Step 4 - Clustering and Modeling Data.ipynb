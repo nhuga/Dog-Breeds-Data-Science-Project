{
 "cells": [
  {
   "cell_type": "markdown",
   "metadata": {},
   "source": [
    "# Dog Breeds - Data Science project"
   ]
  },
  {
   "cell_type": "markdown",
   "metadata": {},
   "source": [
    "# Step 4 : Clustering and Modeling Data\n",
    "\n",
    "In this step, we will Clustering the data into groups, modeling and compare the algorithms results"
   ]
  },
  {
   "cell_type": "code",
   "execution_count": 135,
   "metadata": {
    "id": "mCD5cE181Xux"
   },
   "outputs": [],
   "source": [
    "from __future__ import division, print_function, unicode_literals\n",
    "import numpy as np\n",
    "import os\n",
    "import pandas as pd\n",
    "%matplotlib inline\n",
    "import matplotlib as mpl\n",
    "import matplotlib.pyplot as plt\n",
    "import seaborn as sns\n",
    "import warnings\n",
    "from sklearn.cluster import KMeans\n",
    "from sklearn.decomposition import PCA\n",
    "from sklearn.cluster import AgglomerativeClustering\n",
    "from sklearn.preprocessing import StandardScaler, normalize\n",
    "import scipy.cluster.hierarchy as shc\n",
    "from sklearn.ensemble import RandomForestClassifier\n",
    "from sklearn.model_selection import train_test_split\n",
    "from sklearn.model_selection import cross_val_score\n",
    "from sklearn.metrics import classification_report, confusion_matrix\n",
    "from sklearn.utils.multiclass import unique_labels\n",
    "#Import scikit-learn metrics module for accuracy calculation\n",
    "from sklearn import metrics\n",
    "# To make this notebook's output stable across runs\n",
    "np.random.seed(42)"
   ]
  },
  {
   "cell_type": "code",
   "execution_count": 136,
   "metadata": {
    "id": "0k3zrhUF4xzb"
   },
   "outputs": [],
   "source": [
    "mpl.rc('axes', labelsize=14)\n",
    "mpl.rc('xtick', labelsize=12)\n",
    "mpl.rc('ytick', labelsize=12)"
   ]
  },
  {
   "cell_type": "code",
   "execution_count": 137,
   "metadata": {
    "id": "I4XQFxTL40VW"
   },
   "outputs": [],
   "source": [
    "#set style of plots\n",
    "sns.set_style('white')"
   ]
  },
  {
   "cell_type": "code",
   "execution_count": 138,
   "metadata": {
    "colab": {
     "base_uri": "https://localhost:8080/",
     "height": 85
    },
    "id": "Ula3ktyq49ef",
    "outputId": "2f6d00a8-09a2-4c43-ed3c-7c4a7a62fa37"
   },
   "outputs": [
    {
     "data": {
      "image/png": "[encoded data removed]",
      "text/plain": [
       "<Figure size 504x72 with 1 Axes>"
      ]
     },
     "metadata": {},
     "output_type": "display_data"
    }
   ],
   "source": [
    "#define a custom palette\n",
    "customPalette = [\"#e41a1c\",\"#984ea3\",\"#a65628\",\"#377eb8\",\"#ffff33\",\"#4daf4a\",\"#ff7f00\"]\n",
    "sns.set_palette(customPalette)\n",
    "sns.palplot(customPalette)"
   ]
  },
  {
   "cell_type": "code",
   "execution_count": 139,
   "metadata": {
    "id": "UUWgN9dF5IQt"
   },
   "outputs": [],
   "source": [
    "# Ignore useless warnings (see SciPy issue #5998)\n",
    "warnings.filterwarnings(action=\"ignore\", message=\"^internal gelsd\")"
   ]
  },
  {
   "cell_type": "code",
   "execution_count": 140,
   "metadata": {
    "colab": {
     "base_uri": "https://localhost:8080/",
     "height": 426
    },
    "id": "Rc1ISxNv18xb",
    "outputId": "1002a7c5-3fb0-4be6-ce2b-21dc451c6629"
   },
   "outputs": [
    {
     "data": {
      "text/html": [
       "<div>\n",
       "<style scoped>\n",
       "    .dataframe tbody tr th:only-of-type {\n",
       "        vertical-align: middle;\n",
       "    }\n",
       "\n",
       "    .dataframe tbody tr th {\n",
       "        vertical-align: top;\n",
       "    }\n",
       "\n",
       "    .dataframe thead th {\n",
       "        text-align: right;\n",
       "    }\n",
       "</style>\n",
       "<table border=\"1\" class=\"dataframe\">\n",
       "  <thead>\n",
       "    <tr style=\"text-align: right;\">\n",
       "      <th></th>\n",
       "      <th>breed name</th>\n",
       "      <th>Dog Breed Group</th>\n",
       "      <th>Height</th>\n",
       "      <th>Height Avg.</th>\n",
       "      <th>Weight</th>\n",
       "      <th>Weight Avg.</th>\n",
       "      <th>Life Span</th>\n",
       "      <th>Life Span Avg.</th>\n",
       "      <th>Adaptability</th>\n",
       "      <th>Adapts Well To Apartment Living</th>\n",
       "      <th>...</th>\n",
       "      <th>Intelligence</th>\n",
       "      <th>Potential For Mouthiness</th>\n",
       "      <th>Prey Drive</th>\n",
       "      <th>Tendency To Bark Or Howl</th>\n",
       "      <th>Wanderlust Potential</th>\n",
       "      <th>Physical Needs</th>\n",
       "      <th>Energy Level</th>\n",
       "      <th>Intensity</th>\n",
       "      <th>Exercise Needs</th>\n",
       "      <th>Potential For Playfulness</th>\n",
       "    </tr>\n",
       "  </thead>\n",
       "  <tbody>\n",
       "    <tr>\n",
       "      <th>0</th>\n",
       "      <td>Afador</td>\n",
       "      <td>Mixed Breed Dogs</td>\n",
       "      <td>20 to 29 inches</td>\n",
       "      <td>24.5</td>\n",
       "      <td>50 to 75 pounds</td>\n",
       "      <td>62.5</td>\n",
       "      <td>10 to 12 years</td>\n",
       "      <td>11.0</td>\n",
       "      <td>2</td>\n",
       "      <td>1</td>\n",
       "      <td>...</td>\n",
       "      <td>5</td>\n",
       "      <td>4</td>\n",
       "      <td>4.0</td>\n",
       "      <td>4.0</td>\n",
       "      <td>4</td>\n",
       "      <td>4</td>\n",
       "      <td>4</td>\n",
       "      <td>4</td>\n",
       "      <td>4</td>\n",
       "      <td>3</td>\n",
       "    </tr>\n",
       "    <tr>\n",
       "      <th>1</th>\n",
       "      <td>Affenhuahua</td>\n",
       "      <td>Mixed Breed Dogs</td>\n",
       "      <td>6 to 12 inches</td>\n",
       "      <td>9.0</td>\n",
       "      <td>4 to 12 pounds</td>\n",
       "      <td>8.0</td>\n",
       "      <td>13 to 18 years</td>\n",
       "      <td>15.5</td>\n",
       "      <td>3</td>\n",
       "      <td>4</td>\n",
       "      <td>...</td>\n",
       "      <td>3</td>\n",
       "      <td>4</td>\n",
       "      <td>2.0</td>\n",
       "      <td>4.0</td>\n",
       "      <td>2</td>\n",
       "      <td>3</td>\n",
       "      <td>4</td>\n",
       "      <td>3</td>\n",
       "      <td>3</td>\n",
       "      <td>3</td>\n",
       "    </tr>\n",
       "    <tr>\n",
       "      <th>2</th>\n",
       "      <td>Affenpinscher</td>\n",
       "      <td>Companion Dogs</td>\n",
       "      <td>9 to 11 inches tall at the shoulder</td>\n",
       "      <td>10.0</td>\n",
       "      <td>7 to 9 pounds</td>\n",
       "      <td>8.0</td>\n",
       "      <td>12 to 14 years</td>\n",
       "      <td>13.0</td>\n",
       "      <td>3</td>\n",
       "      <td>5</td>\n",
       "      <td>...</td>\n",
       "      <td>4</td>\n",
       "      <td>4</td>\n",
       "      <td>3.0</td>\n",
       "      <td>2.0</td>\n",
       "      <td>2</td>\n",
       "      <td>4</td>\n",
       "      <td>4</td>\n",
       "      <td>3</td>\n",
       "      <td>3</td>\n",
       "      <td>4</td>\n",
       "    </tr>\n",
       "    <tr>\n",
       "      <th>3</th>\n",
       "      <td>Afghan Hound</td>\n",
       "      <td>Hound Dogs</td>\n",
       "      <td>24 to 26 inches tall at the shoulder</td>\n",
       "      <td>25.0</td>\n",
       "      <td>50 to 60 pounds</td>\n",
       "      <td>55.0</td>\n",
       "      <td>10 to 12 years</td>\n",
       "      <td>11.0</td>\n",
       "      <td>4</td>\n",
       "      <td>5</td>\n",
       "      <td>...</td>\n",
       "      <td>4</td>\n",
       "      <td>3</td>\n",
       "      <td>5.0</td>\n",
       "      <td>2.0</td>\n",
       "      <td>5</td>\n",
       "      <td>4</td>\n",
       "      <td>5</td>\n",
       "      <td>2</td>\n",
       "      <td>4</td>\n",
       "      <td>4</td>\n",
       "    </tr>\n",
       "    <tr>\n",
       "      <th>4</th>\n",
       "      <td>Airedale Terrier</td>\n",
       "      <td>Terrier Dogs</td>\n",
       "      <td>21 to 23 inches tall at the shoulder</td>\n",
       "      <td>22.0</td>\n",
       "      <td>40 to 65 pounds</td>\n",
       "      <td>52.5</td>\n",
       "      <td>10 to 13 years</td>\n",
       "      <td>11.5</td>\n",
       "      <td>2</td>\n",
       "      <td>1</td>\n",
       "      <td>...</td>\n",
       "      <td>5</td>\n",
       "      <td>5</td>\n",
       "      <td>5.0</td>\n",
       "      <td>4.0</td>\n",
       "      <td>4</td>\n",
       "      <td>5</td>\n",
       "      <td>5</td>\n",
       "      <td>3</td>\n",
       "      <td>5</td>\n",
       "      <td>5</td>\n",
       "    </tr>\n",
       "  </tbody>\n",
       "</table>\n",
       "<p>5 rows × 39 columns</p>\n",
       "</div>"
      ],
      "text/plain": [
       "         breed name   Dog Breed Group                                Height  \\\n",
       "0            Afador  Mixed Breed Dogs                       20 to 29 inches   \n",
       "1       Affenhuahua  Mixed Breed Dogs                        6 to 12 inches   \n",
       "2     Affenpinscher    Companion Dogs   9 to 11 inches tall at the shoulder   \n",
       "3      Afghan Hound        Hound Dogs  24 to 26 inches tall at the shoulder   \n",
       "4  Airedale Terrier      Terrier Dogs  21 to 23 inches tall at the shoulder   \n",
       "\n",
       "   Height Avg.           Weight  Weight Avg.       Life Span  Life Span Avg.  \\\n",
       "0         24.5  50 to 75 pounds         62.5  10 to 12 years            11.0   \n",
       "1          9.0   4 to 12 pounds          8.0  13 to 18 years            15.5   \n",
       "2         10.0    7 to 9 pounds          8.0  12 to 14 years            13.0   \n",
       "3         25.0  50 to 60 pounds         55.0  10 to 12 years            11.0   \n",
       "4         22.0  40 to 65 pounds         52.5  10 to 13 years            11.5   \n",
       "\n",
       "   Adaptability  Adapts Well To Apartment Living  ...  Intelligence  \\\n",
       "0             2                                1  ...             5   \n",
       "1             3                                4  ...             3   \n",
       "2             3                                5  ...             4   \n",
       "3             4                                5  ...             4   \n",
       "4             2                                1  ...             5   \n",
       "\n",
       "   Potential For Mouthiness  Prey Drive  Tendency To Bark Or Howl  \\\n",
       "0                         4         4.0                       4.0   \n",
       "1                         4         2.0                       4.0   \n",
       "2                         4         3.0                       2.0   \n",
       "3                         3         5.0                       2.0   \n",
       "4                         5         5.0                       4.0   \n",
       "\n",
       "   Wanderlust Potential  Physical Needs  Energy Level  Intensity  \\\n",
       "0                     4               4             4          4   \n",
       "1                     2               3             4          3   \n",
       "2                     2               4             4          3   \n",
       "3                     5               4             5          2   \n",
       "4                     4               5             5          3   \n",
       "\n",
       "   Exercise Needs  Potential For Playfulness  \n",
       "0               4                          3  \n",
       "1               3                          3  \n",
       "2               3                          4  \n",
       "3               4                          4  \n",
       "4               5                          5  \n",
       "\n",
       "[5 rows x 39 columns]"
      ]
     },
     "execution_count": 140,
     "metadata": {},
     "output_type": "execute_result"
    }
   ],
   "source": [
    "# Load the dataset\n",
    "df = pd.read_csv(\"dog_breed_data_handling_missing_values.csv\",index_col = 0)\n",
    "# Print the first 5 rows of the dataframe.\n",
    "df.head()"
   ]
  },
  {
   "cell_type": "code",
   "execution_count": 141,
   "metadata": {
    "colab": {
     "base_uri": "https://localhost:8080/",
     "height": 275
    },
    "id": "1IZyLfcQ2eIV",
    "outputId": "7ba0dc3f-bf3e-415a-dd95-d0b2726f3193"
   },
   "outputs": [
    {
     "data": {
      "text/html": [
       "<div>\n",
       "<style scoped>\n",
       "    .dataframe tbody tr th:only-of-type {\n",
       "        vertical-align: middle;\n",
       "    }\n",
       "\n",
       "    .dataframe tbody tr th {\n",
       "        vertical-align: top;\n",
       "    }\n",
       "\n",
       "    .dataframe thead th {\n",
       "        text-align: right;\n",
       "    }\n",
       "</style>\n",
       "<table border=\"1\" class=\"dataframe\">\n",
       "  <thead>\n",
       "    <tr style=\"text-align: right;\">\n",
       "      <th></th>\n",
       "      <th>Height Avg.</th>\n",
       "      <th>Weight Avg.</th>\n",
       "      <th>Life Span Avg.</th>\n",
       "      <th>Adaptability</th>\n",
       "      <th>Adapts Well To Apartment Living</th>\n",
       "      <th>Good For Novice Owners</th>\n",
       "      <th>Sensitivity Level</th>\n",
       "      <th>Tolerates Being Alone</th>\n",
       "      <th>Tolerates Cold Weather</th>\n",
       "      <th>Tolerates Hot Weather</th>\n",
       "      <th>...</th>\n",
       "      <th>Intelligence</th>\n",
       "      <th>Potential For Mouthiness</th>\n",
       "      <th>Prey Drive</th>\n",
       "      <th>Tendency To Bark Or Howl</th>\n",
       "      <th>Wanderlust Potential</th>\n",
       "      <th>Physical Needs</th>\n",
       "      <th>Energy Level</th>\n",
       "      <th>Intensity</th>\n",
       "      <th>Exercise Needs</th>\n",
       "      <th>Potential For Playfulness</th>\n",
       "    </tr>\n",
       "  </thead>\n",
       "  <tbody>\n",
       "    <tr>\n",
       "      <th>0</th>\n",
       "      <td>24.5</td>\n",
       "      <td>62.5</td>\n",
       "      <td>11.0</td>\n",
       "      <td>2</td>\n",
       "      <td>1</td>\n",
       "      <td>1</td>\n",
       "      <td>3</td>\n",
       "      <td>3</td>\n",
       "      <td>4</td>\n",
       "      <td>2</td>\n",
       "      <td>...</td>\n",
       "      <td>5</td>\n",
       "      <td>4</td>\n",
       "      <td>4.0</td>\n",
       "      <td>4.0</td>\n",
       "      <td>4</td>\n",
       "      <td>4</td>\n",
       "      <td>4</td>\n",
       "      <td>4</td>\n",
       "      <td>4</td>\n",
       "      <td>3</td>\n",
       "    </tr>\n",
       "    <tr>\n",
       "      <th>1</th>\n",
       "      <td>9.0</td>\n",
       "      <td>8.0</td>\n",
       "      <td>15.5</td>\n",
       "      <td>3</td>\n",
       "      <td>4</td>\n",
       "      <td>4</td>\n",
       "      <td>4</td>\n",
       "      <td>1</td>\n",
       "      <td>2</td>\n",
       "      <td>3</td>\n",
       "      <td>...</td>\n",
       "      <td>3</td>\n",
       "      <td>4</td>\n",
       "      <td>2.0</td>\n",
       "      <td>4.0</td>\n",
       "      <td>2</td>\n",
       "      <td>3</td>\n",
       "      <td>4</td>\n",
       "      <td>3</td>\n",
       "      <td>3</td>\n",
       "      <td>3</td>\n",
       "    </tr>\n",
       "    <tr>\n",
       "      <th>2</th>\n",
       "      <td>10.0</td>\n",
       "      <td>8.0</td>\n",
       "      <td>13.0</td>\n",
       "      <td>3</td>\n",
       "      <td>5</td>\n",
       "      <td>4</td>\n",
       "      <td>3</td>\n",
       "      <td>1</td>\n",
       "      <td>3</td>\n",
       "      <td>3</td>\n",
       "      <td>...</td>\n",
       "      <td>4</td>\n",
       "      <td>4</td>\n",
       "      <td>3.0</td>\n",
       "      <td>2.0</td>\n",
       "      <td>2</td>\n",
       "      <td>4</td>\n",
       "      <td>4</td>\n",
       "      <td>3</td>\n",
       "      <td>3</td>\n",
       "      <td>4</td>\n",
       "    </tr>\n",
       "    <tr>\n",
       "      <th>3</th>\n",
       "      <td>25.0</td>\n",
       "      <td>55.0</td>\n",
       "      <td>11.0</td>\n",
       "      <td>4</td>\n",
       "      <td>5</td>\n",
       "      <td>3</td>\n",
       "      <td>5</td>\n",
       "      <td>2</td>\n",
       "      <td>5</td>\n",
       "      <td>5</td>\n",
       "      <td>...</td>\n",
       "      <td>4</td>\n",
       "      <td>3</td>\n",
       "      <td>5.0</td>\n",
       "      <td>2.0</td>\n",
       "      <td>5</td>\n",
       "      <td>4</td>\n",
       "      <td>5</td>\n",
       "      <td>2</td>\n",
       "      <td>4</td>\n",
       "      <td>4</td>\n",
       "    </tr>\n",
       "    <tr>\n",
       "      <th>4</th>\n",
       "      <td>22.0</td>\n",
       "      <td>52.5</td>\n",
       "      <td>11.5</td>\n",
       "      <td>2</td>\n",
       "      <td>1</td>\n",
       "      <td>2</td>\n",
       "      <td>3</td>\n",
       "      <td>2</td>\n",
       "      <td>3</td>\n",
       "      <td>3</td>\n",
       "      <td>...</td>\n",
       "      <td>5</td>\n",
       "      <td>5</td>\n",
       "      <td>5.0</td>\n",
       "      <td>4.0</td>\n",
       "      <td>4</td>\n",
       "      <td>5</td>\n",
       "      <td>5</td>\n",
       "      <td>3</td>\n",
       "      <td>5</td>\n",
       "      <td>5</td>\n",
       "    </tr>\n",
       "  </tbody>\n",
       "</table>\n",
       "<p>5 rows × 34 columns</p>\n",
       "</div>"
      ],
      "text/plain": [
       "   Height Avg.  Weight Avg.  Life Span Avg.  Adaptability  \\\n",
       "0         24.5         62.5            11.0             2   \n",
       "1          9.0          8.0            15.5             3   \n",
       "2         10.0          8.0            13.0             3   \n",
       "3         25.0         55.0            11.0             4   \n",
       "4         22.0         52.5            11.5             2   \n",
       "\n",
       "   Adapts Well To Apartment Living  Good For Novice Owners  Sensitivity Level  \\\n",
       "0                                1                       1                  3   \n",
       "1                                4                       4                  4   \n",
       "2                                5                       4                  3   \n",
       "3                                5                       3                  5   \n",
       "4                                1                       2                  3   \n",
       "\n",
       "   Tolerates Being Alone  Tolerates Cold Weather  Tolerates Hot Weather  ...  \\\n",
       "0                      3                       4                      2  ...   \n",
       "1                      1                       2                      3  ...   \n",
       "2                      1                       3                      3  ...   \n",
       "3                      2                       5                      5  ...   \n",
       "4                      2                       3                      3  ...   \n",
       "\n",
       "   Intelligence  Potential For Mouthiness  Prey Drive  \\\n",
       "0             5                         4         4.0   \n",
       "1             3                         4         2.0   \n",
       "2             4                         4         3.0   \n",
       "3             4                         3         5.0   \n",
       "4             5                         5         5.0   \n",
       "\n",
       "   Tendency To Bark Or Howl  Wanderlust Potential  Physical Needs  \\\n",
       "0                       4.0                     4               4   \n",
       "1                       4.0                     2               3   \n",
       "2                       2.0                     2               4   \n",
       "3                       2.0                     5               4   \n",
       "4                       4.0                     4               5   \n",
       "\n",
       "   Energy Level  Intensity  Exercise Needs  Potential For Playfulness  \n",
       "0             4          4               4                          3  \n",
       "1             4          3               3                          3  \n",
       "2             4          3               3                          4  \n",
       "3             5          2               4                          4  \n",
       "4             5          3               5                          5  \n",
       "\n",
       "[5 rows x 34 columns]"
      ]
     },
     "execution_count": 141,
     "metadata": {},
     "output_type": "execute_result"
    }
   ],
   "source": [
    "df_features = df.copy(deep='true')\n",
    "\n",
    "# drop the columns with string values\n",
    "df_features = df_features.drop(['breed name','Dog Breed Group','Height','Weight','Life Span'],axis=1)\n",
    "df_features.head()"
   ]
  },
  {
   "cell_type": "code",
   "execution_count": 142,
   "metadata": {
    "colab": {
     "base_uri": "https://localhost:8080/",
     "height": 547
    },
    "id": "VlgXptkYHsFi",
    "outputId": "eb0c6816-efe8-465d-8e69-30aae1c1ae6c"
   },
   "outputs": [
    {
     "data": {
      "text/html": [
       "<div>\n",
       "<style scoped>\n",
       "    .dataframe tbody tr th:only-of-type {\n",
       "        vertical-align: middle;\n",
       "    }\n",
       "\n",
       "    .dataframe tbody tr th {\n",
       "        vertical-align: top;\n",
       "    }\n",
       "\n",
       "    .dataframe thead th {\n",
       "        text-align: right;\n",
       "    }\n",
       "</style>\n",
       "<table border=\"1\" class=\"dataframe\">\n",
       "  <thead>\n",
       "    <tr style=\"text-align: right;\">\n",
       "      <th></th>\n",
       "      <th>breed name</th>\n",
       "      <th>Dog Breed Group</th>\n",
       "      <th>Height</th>\n",
       "      <th>Height Avg.</th>\n",
       "      <th>Weight</th>\n",
       "      <th>Weight Avg.</th>\n",
       "      <th>Life Span</th>\n",
       "      <th>Life Span Avg.</th>\n",
       "      <th>Adaptability</th>\n",
       "      <th>Adapts Well To Apartment Living</th>\n",
       "      <th>...</th>\n",
       "      <th>Intelligence</th>\n",
       "      <th>Potential For Mouthiness</th>\n",
       "      <th>Prey Drive</th>\n",
       "      <th>Tendency To Bark Or Howl</th>\n",
       "      <th>Wanderlust Potential</th>\n",
       "      <th>Physical Needs</th>\n",
       "      <th>Energy Level</th>\n",
       "      <th>Intensity</th>\n",
       "      <th>Exercise Needs</th>\n",
       "      <th>Potential For Playfulness</th>\n",
       "    </tr>\n",
       "  </thead>\n",
       "  <tbody>\n",
       "    <tr>\n",
       "      <th>0</th>\n",
       "      <td>Afador</td>\n",
       "      <td>Mixed Breed Dogs</td>\n",
       "      <td>20 to 29 inches</td>\n",
       "      <td>24.5</td>\n",
       "      <td>50 to 75 pounds</td>\n",
       "      <td>62.5</td>\n",
       "      <td>10 to 12 years</td>\n",
       "      <td>11.0</td>\n",
       "      <td>2</td>\n",
       "      <td>1</td>\n",
       "      <td>...</td>\n",
       "      <td>5</td>\n",
       "      <td>4</td>\n",
       "      <td>4.0</td>\n",
       "      <td>4.0</td>\n",
       "      <td>4</td>\n",
       "      <td>4</td>\n",
       "      <td>4</td>\n",
       "      <td>4</td>\n",
       "      <td>4</td>\n",
       "      <td>3</td>\n",
       "    </tr>\n",
       "    <tr>\n",
       "      <th>1</th>\n",
       "      <td>Affenhuahua</td>\n",
       "      <td>Mixed Breed Dogs</td>\n",
       "      <td>6 to 12 inches</td>\n",
       "      <td>9.0</td>\n",
       "      <td>4 to 12 pounds</td>\n",
       "      <td>8.0</td>\n",
       "      <td>13 to 18 years</td>\n",
       "      <td>15.5</td>\n",
       "      <td>3</td>\n",
       "      <td>4</td>\n",
       "      <td>...</td>\n",
       "      <td>3</td>\n",
       "      <td>4</td>\n",
       "      <td>2.0</td>\n",
       "      <td>4.0</td>\n",
       "      <td>2</td>\n",
       "      <td>3</td>\n",
       "      <td>4</td>\n",
       "      <td>3</td>\n",
       "      <td>3</td>\n",
       "      <td>3</td>\n",
       "    </tr>\n",
       "    <tr>\n",
       "      <th>2</th>\n",
       "      <td>Affenpinscher</td>\n",
       "      <td>Companion Dogs</td>\n",
       "      <td>9 to 11 inches tall at the shoulder</td>\n",
       "      <td>10.0</td>\n",
       "      <td>7 to 9 pounds</td>\n",
       "      <td>8.0</td>\n",
       "      <td>12 to 14 years</td>\n",
       "      <td>13.0</td>\n",
       "      <td>3</td>\n",
       "      <td>5</td>\n",
       "      <td>...</td>\n",
       "      <td>4</td>\n",
       "      <td>4</td>\n",
       "      <td>3.0</td>\n",
       "      <td>2.0</td>\n",
       "      <td>2</td>\n",
       "      <td>4</td>\n",
       "      <td>4</td>\n",
       "      <td>3</td>\n",
       "      <td>3</td>\n",
       "      <td>4</td>\n",
       "    </tr>\n",
       "    <tr>\n",
       "      <th>3</th>\n",
       "      <td>Afghan Hound</td>\n",
       "      <td>Hound Dogs</td>\n",
       "      <td>24 to 26 inches tall at the shoulder</td>\n",
       "      <td>25.0</td>\n",
       "      <td>50 to 60 pounds</td>\n",
       "      <td>55.0</td>\n",
       "      <td>10 to 12 years</td>\n",
       "      <td>11.0</td>\n",
       "      <td>4</td>\n",
       "      <td>5</td>\n",
       "      <td>...</td>\n",
       "      <td>4</td>\n",
       "      <td>3</td>\n",
       "      <td>5.0</td>\n",
       "      <td>2.0</td>\n",
       "      <td>5</td>\n",
       "      <td>4</td>\n",
       "      <td>5</td>\n",
       "      <td>2</td>\n",
       "      <td>4</td>\n",
       "      <td>4</td>\n",
       "    </tr>\n",
       "    <tr>\n",
       "      <th>4</th>\n",
       "      <td>Airedale Terrier</td>\n",
       "      <td>Terrier Dogs</td>\n",
       "      <td>21 to 23 inches tall at the shoulder</td>\n",
       "      <td>22.0</td>\n",
       "      <td>40 to 65 pounds</td>\n",
       "      <td>52.5</td>\n",
       "      <td>10 to 13 years</td>\n",
       "      <td>11.5</td>\n",
       "      <td>2</td>\n",
       "      <td>1</td>\n",
       "      <td>...</td>\n",
       "      <td>5</td>\n",
       "      <td>5</td>\n",
       "      <td>5.0</td>\n",
       "      <td>4.0</td>\n",
       "      <td>4</td>\n",
       "      <td>5</td>\n",
       "      <td>5</td>\n",
       "      <td>3</td>\n",
       "      <td>5</td>\n",
       "      <td>5</td>\n",
       "    </tr>\n",
       "  </tbody>\n",
       "</table>\n",
       "<p>5 rows × 39 columns</p>\n",
       "</div>"
      ],
      "text/plain": [
       "         breed name   Dog Breed Group                                Height  \\\n",
       "0            Afador  Mixed Breed Dogs                       20 to 29 inches   \n",
       "1       Affenhuahua  Mixed Breed Dogs                        6 to 12 inches   \n",
       "2     Affenpinscher    Companion Dogs   9 to 11 inches tall at the shoulder   \n",
       "3      Afghan Hound        Hound Dogs  24 to 26 inches tall at the shoulder   \n",
       "4  Airedale Terrier      Terrier Dogs  21 to 23 inches tall at the shoulder   \n",
       "\n",
       "   Height Avg.           Weight  Weight Avg.       Life Span  Life Span Avg.  \\\n",
       "0         24.5  50 to 75 pounds         62.5  10 to 12 years            11.0   \n",
       "1          9.0   4 to 12 pounds          8.0  13 to 18 years            15.5   \n",
       "2         10.0    7 to 9 pounds          8.0  12 to 14 years            13.0   \n",
       "3         25.0  50 to 60 pounds         55.0  10 to 12 years            11.0   \n",
       "4         22.0  40 to 65 pounds         52.5  10 to 13 years            11.5   \n",
       "\n",
       "   Adaptability  Adapts Well To Apartment Living  ...  Intelligence  \\\n",
       "0             2                                1  ...             5   \n",
       "1             3                                4  ...             3   \n",
       "2             3                                5  ...             4   \n",
       "3             4                                5  ...             4   \n",
       "4             2                                1  ...             5   \n",
       "\n",
       "   Potential For Mouthiness  Prey Drive  Tendency To Bark Or Howl  \\\n",
       "0                         4         4.0                       4.0   \n",
       "1                         4         2.0                       4.0   \n",
       "2                         4         3.0                       2.0   \n",
       "3                         3         5.0                       2.0   \n",
       "4                         5         5.0                       4.0   \n",
       "\n",
       "   Wanderlust Potential  Physical Needs  Energy Level  Intensity  \\\n",
       "0                     4               4             4          4   \n",
       "1                     2               3             4          3   \n",
       "2                     2               4             4          3   \n",
       "3                     5               4             5          2   \n",
       "4                     4               5             5          3   \n",
       "\n",
       "   Exercise Needs  Potential For Playfulness  \n",
       "0               4                          3  \n",
       "1               3                          3  \n",
       "2               3                          4  \n",
       "3               4                          4  \n",
       "4               5                          5  \n",
       "\n",
       "[5 rows x 39 columns]"
      ]
     },
     "execution_count": 142,
     "metadata": {},
     "output_type": "execute_result"
    }
   ],
   "source": [
    "df.head()"
   ]
  },
  {
   "cell_type": "code",
   "execution_count": 143,
   "metadata": {
    "id": "YJmN_4Cm8SQi"
   },
   "outputs": [],
   "source": [
    "Sum_of_squared_distances = []\n",
    "K = range(1,8)\n",
    "for k in K:\n",
    "    km = KMeans(n_clusters=k)\n",
    "    km = km.fit(df_features)\n",
    "    Sum_of_squared_distances.append(km.inertia_)"
   ]
  },
  {
   "cell_type": "code",
   "execution_count": 144,
   "metadata": {
    "colab": {
     "base_uri": "https://localhost:8080/"
    },
    "id": "Hc2QTPVW8fRR",
    "outputId": "52da9e2f-1ea0-496c-ee8b-861c2f0ad536"
   },
   "outputs": [
    {
     "data": {
      "text/plain": [
       "KMeans()"
      ]
     },
     "execution_count": 144,
     "metadata": {},
     "output_type": "execute_result"
    }
   ],
   "source": [
    "kmeans = KMeans(n_clusters=8)\n",
    "kmeans.fit(df_features)"
   ]
  },
  {
   "cell_type": "code",
   "execution_count": 145,
   "metadata": {
    "id": "qMT_fWIY8m4_"
   },
   "outputs": [],
   "source": [
    "# PCA to reduce our data to 2 dimensions for visualisation\n",
    "y_kmeans = kmeans.predict(df_features)\n",
    "pca = PCA(n_components=2)\n",
    "principal_components = pca.fit_transform(df_features)"
   ]
  },
  {
   "cell_type": "code",
   "execution_count": 146,
   "metadata": {
    "colab": {
     "base_uri": "https://localhost:8080/",
     "height": 387
    },
    "id": "1B72UYza8wWK",
    "outputId": "1e1d6b60-ae47-469b-bd2c-d3a4b22cfc20"
   },
   "outputs": [
    {
     "data": {
      "image/png": "[encoded data removed]",
      "text/plain": [
       "<Figure size 401.625x360 with 1 Axes>"
      ]
     },
     "metadata": {},
     "output_type": "display_data"
    }
   ],
   "source": [
    "pc = pd.DataFrame(principal_components)\n",
    "pc['label'] = y_kmeans\n",
    "pc.columns = ['x', 'y','label']\n",
    "\n",
    "#plot data with seaborn\n",
    "cluster = sns.lmplot(data=pc, x='x', y='y', hue='label', \n",
    "                   fit_reg=False, legend=True, legend_out=True)"
   ]
  },
  {
   "cell_type": "code",
   "execution_count": 147,
   "metadata": {
    "id": "DwdYqU5xAPcI"
   },
   "outputs": [],
   "source": [
    "# Scaling the data so that all the features become comparable\n",
    "scaler = StandardScaler()\n",
    "X_scaled = scaler.fit_transform(df_features)\n",
    "\n",
    "# Normalizing the data so that the data approximately\n",
    "# follows a Gaussian distribution\n",
    "X_normalized = normalize(X_scaled)\n",
    "\n",
    "# Converting the numpy array into a pandas DataFrame\n",
    "X_normalized = pd.DataFrame(X_normalized)\n"
   ]
  },
  {
   "cell_type": "code",
   "execution_count": 148,
   "metadata": {
    "id": "-wAPwSvcBSR0"
   },
   "outputs": [],
   "source": [
    "\n",
    "pca = PCA(n_components = 2)\n",
    "X_principal = pca.fit_transform(X_normalized)\n",
    "X_principal = pd.DataFrame(X_principal)\n",
    "X_principal.columns = ['P1', 'P2']"
   ]
  },
  {
   "cell_type": "code",
   "execution_count": 149,
   "metadata": {
    "colab": {
     "base_uri": "https://localhost:8080/",
     "height": 499
    },
    "id": "rZ_4sEP-BYFi",
    "outputId": "3fb4c3a9-b3a2-4d1e-ec3c-a69dcfc46be7"
   },
   "outputs": [
    {
     "data": {
      "image/png": "[encoded data removed]",
      "text/plain": [
       "<Figure size 576x576 with 1 Axes>"
      ]
     },
     "metadata": {},
     "output_type": "display_data"
    }
   ],
   "source": [
    "plt.figure(figsize =(8, 8))\n",
    "plt.title('Visualising the data')\n",
    "Dendrogram = shc.dendrogram((shc.linkage(X_principal, method ='ward')))\n"
   ]
  },
  {
   "cell_type": "code",
   "execution_count": 160,
   "metadata": {
    "colab": {
     "base_uri": "https://localhost:8080/",
     "height": 377
    },
    "id": "pQqvBDWECF7j",
    "outputId": "280f45ad-54b5-4189-f52d-58a4d8fbbd29"
   },
   "outputs": [
    {
     "data": {
      "image/png": "[encoded data removed]",
      "text/plain": [
       "<Figure size 432x432 with 1 Axes>"
      ]
     },
     "metadata": {},
     "output_type": "display_data"
    }
   ],
   "source": [
    "# applied agglomerative clustering with value of k=8 (Hierarchical clustering)\n",
    "ac6 = AgglomerativeClustering(n_clusters = 8)\n",
    "  \n",
    "plt.figure(figsize =(6, 6))\n",
    "plt.scatter(X_principal['P1'], X_principal['P2'],\n",
    "            c = ac6.fit_predict(X_principal), cmap ='rainbow')\n",
    "plt.show()"
   ]
  },
  {
   "cell_type": "code",
   "execution_count": 161,
   "metadata": {
    "id": "4tAkcdcJF1ro"
   },
   "outputs": [],
   "source": [
    "df['breed group after clustering'] = y_kmeans"
   ]
  },
  {
   "cell_type": "code",
   "execution_count": 162,
   "metadata": {
    "colab": {
     "base_uri": "https://localhost:8080/"
    },
    "id": "oxyWoGykGEm-",
    "outputId": "5f65952c-7f97-426c-bb15-3b63ffc6b4f4"
   },
   "outputs": [
    {
     "data": {
      "text/plain": [
       "2    110\n",
       "0     83\n",
       "5     66\n",
       "4     44\n",
       "1     37\n",
       "7     19\n",
       "6     17\n",
       "3     13\n",
       "Name: breed group after clustering, dtype: int64"
      ]
     },
     "execution_count": 162,
     "metadata": {},
     "output_type": "execute_result"
    }
   ],
   "source": [
    "df = df.sample(frac=1)\n",
    "df['breed group after clustering'].value_counts()"
   ]
  },
  {
   "cell_type": "code",
   "execution_count": 163,
   "metadata": {
    "colab": {
     "base_uri": "https://localhost:8080/",
     "height": 547
    },
    "id": "fyOFJnBXHiO2",
    "outputId": "9b9a4234-84f7-4408-b51d-ebea99cc40fc"
   },
   "outputs": [
    {
     "data": {
      "text/html": [
       "<div>\n",
       "<style scoped>\n",
       "    .dataframe tbody tr th:only-of-type {\n",
       "        vertical-align: middle;\n",
       "    }\n",
       "\n",
       "    .dataframe tbody tr th {\n",
       "        vertical-align: top;\n",
       "    }\n",
       "\n",
       "    .dataframe thead th {\n",
       "        text-align: right;\n",
       "    }\n",
       "</style>\n",
       "<table border=\"1\" class=\"dataframe\">\n",
       "  <thead>\n",
       "    <tr style=\"text-align: right;\">\n",
       "      <th></th>\n",
       "      <th>breed name</th>\n",
       "      <th>Dog Breed Group</th>\n",
       "      <th>Height</th>\n",
       "      <th>Height Avg.</th>\n",
       "      <th>Weight</th>\n",
       "      <th>Weight Avg.</th>\n",
       "      <th>Life Span</th>\n",
       "      <th>Life Span Avg.</th>\n",
       "      <th>Adaptability</th>\n",
       "      <th>Adapts Well To Apartment Living</th>\n",
       "      <th>...</th>\n",
       "      <th>Potential For Mouthiness</th>\n",
       "      <th>Prey Drive</th>\n",
       "      <th>Tendency To Bark Or Howl</th>\n",
       "      <th>Wanderlust Potential</th>\n",
       "      <th>Physical Needs</th>\n",
       "      <th>Energy Level</th>\n",
       "      <th>Intensity</th>\n",
       "      <th>Exercise Needs</th>\n",
       "      <th>Potential For Playfulness</th>\n",
       "      <th>breed group after clustering</th>\n",
       "    </tr>\n",
       "  </thead>\n",
       "  <tbody>\n",
       "    <tr>\n",
       "      <th>0</th>\n",
       "      <td>Afador</td>\n",
       "      <td>Mixed Breed Dogs</td>\n",
       "      <td>20 to 29 inches</td>\n",
       "      <td>24.5</td>\n",
       "      <td>50 to 75 pounds</td>\n",
       "      <td>62.5</td>\n",
       "      <td>10 to 12 years</td>\n",
       "      <td>11.0</td>\n",
       "      <td>2</td>\n",
       "      <td>1</td>\n",
       "      <td>...</td>\n",
       "      <td>4</td>\n",
       "      <td>4.0</td>\n",
       "      <td>4.0</td>\n",
       "      <td>4</td>\n",
       "      <td>4</td>\n",
       "      <td>4</td>\n",
       "      <td>4</td>\n",
       "      <td>4</td>\n",
       "      <td>3</td>\n",
       "      <td>4</td>\n",
       "    </tr>\n",
       "    <tr>\n",
       "      <th>1</th>\n",
       "      <td>Affenhuahua</td>\n",
       "      <td>Mixed Breed Dogs</td>\n",
       "      <td>6 to 12 inches</td>\n",
       "      <td>9.0</td>\n",
       "      <td>4 to 12 pounds</td>\n",
       "      <td>8.0</td>\n",
       "      <td>13 to 18 years</td>\n",
       "      <td>15.5</td>\n",
       "      <td>3</td>\n",
       "      <td>4</td>\n",
       "      <td>...</td>\n",
       "      <td>4</td>\n",
       "      <td>2.0</td>\n",
       "      <td>4.0</td>\n",
       "      <td>2</td>\n",
       "      <td>3</td>\n",
       "      <td>4</td>\n",
       "      <td>3</td>\n",
       "      <td>3</td>\n",
       "      <td>3</td>\n",
       "      <td>2</td>\n",
       "    </tr>\n",
       "    <tr>\n",
       "      <th>2</th>\n",
       "      <td>Affenpinscher</td>\n",
       "      <td>Companion Dogs</td>\n",
       "      <td>9 to 11 inches tall at the shoulder</td>\n",
       "      <td>10.0</td>\n",
       "      <td>7 to 9 pounds</td>\n",
       "      <td>8.0</td>\n",
       "      <td>12 to 14 years</td>\n",
       "      <td>13.0</td>\n",
       "      <td>3</td>\n",
       "      <td>5</td>\n",
       "      <td>...</td>\n",
       "      <td>4</td>\n",
       "      <td>3.0</td>\n",
       "      <td>2.0</td>\n",
       "      <td>2</td>\n",
       "      <td>4</td>\n",
       "      <td>4</td>\n",
       "      <td>3</td>\n",
       "      <td>3</td>\n",
       "      <td>4</td>\n",
       "      <td>2</td>\n",
       "    </tr>\n",
       "    <tr>\n",
       "      <th>3</th>\n",
       "      <td>Afghan Hound</td>\n",
       "      <td>Hound Dogs</td>\n",
       "      <td>24 to 26 inches tall at the shoulder</td>\n",
       "      <td>25.0</td>\n",
       "      <td>50 to 60 pounds</td>\n",
       "      <td>55.0</td>\n",
       "      <td>10 to 12 years</td>\n",
       "      <td>11.0</td>\n",
       "      <td>4</td>\n",
       "      <td>5</td>\n",
       "      <td>...</td>\n",
       "      <td>3</td>\n",
       "      <td>5.0</td>\n",
       "      <td>2.0</td>\n",
       "      <td>5</td>\n",
       "      <td>4</td>\n",
       "      <td>5</td>\n",
       "      <td>2</td>\n",
       "      <td>4</td>\n",
       "      <td>4</td>\n",
       "      <td>0</td>\n",
       "    </tr>\n",
       "    <tr>\n",
       "      <th>4</th>\n",
       "      <td>Airedale Terrier</td>\n",
       "      <td>Terrier Dogs</td>\n",
       "      <td>21 to 23 inches tall at the shoulder</td>\n",
       "      <td>22.0</td>\n",
       "      <td>40 to 65 pounds</td>\n",
       "      <td>52.5</td>\n",
       "      <td>10 to 13 years</td>\n",
       "      <td>11.5</td>\n",
       "      <td>2</td>\n",
       "      <td>1</td>\n",
       "      <td>...</td>\n",
       "      <td>5</td>\n",
       "      <td>5.0</td>\n",
       "      <td>4.0</td>\n",
       "      <td>4</td>\n",
       "      <td>5</td>\n",
       "      <td>5</td>\n",
       "      <td>3</td>\n",
       "      <td>5</td>\n",
       "      <td>5</td>\n",
       "      <td>0</td>\n",
       "    </tr>\n",
       "  </tbody>\n",
       "</table>\n",
       "<p>5 rows × 40 columns</p>\n",
       "</div>"
      ],
      "text/plain": [
       "         breed name   Dog Breed Group                                Height  \\\n",
       "0            Afador  Mixed Breed Dogs                       20 to 29 inches   \n",
       "1       Affenhuahua  Mixed Breed Dogs                        6 to 12 inches   \n",
       "2     Affenpinscher    Companion Dogs   9 to 11 inches tall at the shoulder   \n",
       "3      Afghan Hound        Hound Dogs  24 to 26 inches tall at the shoulder   \n",
       "4  Airedale Terrier      Terrier Dogs  21 to 23 inches tall at the shoulder   \n",
       "\n",
       "   Height Avg.           Weight  Weight Avg.       Life Span  Life Span Avg.  \\\n",
       "0         24.5  50 to 75 pounds         62.5  10 to 12 years            11.0   \n",
       "1          9.0   4 to 12 pounds          8.0  13 to 18 years            15.5   \n",
       "2         10.0    7 to 9 pounds          8.0  12 to 14 years            13.0   \n",
       "3         25.0  50 to 60 pounds         55.0  10 to 12 years            11.0   \n",
       "4         22.0  40 to 65 pounds         52.5  10 to 13 years            11.5   \n",
       "\n",
       "   Adaptability  Adapts Well To Apartment Living  ...  \\\n",
       "0             2                                1  ...   \n",
       "1             3                                4  ...   \n",
       "2             3                                5  ...   \n",
       "3             4                                5  ...   \n",
       "4             2                                1  ...   \n",
       "\n",
       "   Potential For Mouthiness  Prey Drive  Tendency To Bark Or Howl  \\\n",
       "0                         4         4.0                       4.0   \n",
       "1                         4         2.0                       4.0   \n",
       "2                         4         3.0                       2.0   \n",
       "3                         3         5.0                       2.0   \n",
       "4                         5         5.0                       4.0   \n",
       "\n",
       "   Wanderlust Potential  Physical Needs  Energy Level  Intensity  \\\n",
       "0                     4               4             4          4   \n",
       "1                     2               3             4          3   \n",
       "2                     2               4             4          3   \n",
       "3                     5               4             5          2   \n",
       "4                     4               5             5          3   \n",
       "\n",
       "   Exercise Needs  Potential For Playfulness  breed group after clustering  \n",
       "0               4                          3                             4  \n",
       "1               3                          3                             2  \n",
       "2               3                          4                             2  \n",
       "3               4                          4                             0  \n",
       "4               5                          5                             0  \n",
       "\n",
       "[5 rows x 40 columns]"
      ]
     },
     "execution_count": 163,
     "metadata": {},
     "output_type": "execute_result"
    }
   ],
   "source": [
    "df.sort_index(inplace=True)\n",
    "df.head()"
   ]
  },
  {
   "cell_type": "code",
   "execution_count": 164,
   "metadata": {
    "colab": {
     "base_uri": "https://localhost:8080/"
    },
    "id": "GQwqMxy3KIxE",
    "outputId": "fa977ab5-04fb-44c0-98b6-5c0b2bfcacf0"
   },
   "outputs": [
    {
     "data": {
      "text/plain": [
       "RandomForestClassifier()"
      ]
     },
     "execution_count": 164,
     "metadata": {},
     "output_type": "execute_result"
    }
   ],
   "source": [
    "X =df_features\n",
    "y = y_kmeans\n",
    "\n",
    "X_train, X_test, y_train, y_test = train_test_split(X, y, test_size=0.33)\n",
    "\n",
    "rfc = RandomForestClassifier(n_estimators=100,criterion='gini')\n",
    "rfc.fit(X_train,y_train)"
   ]
  },
  {
   "cell_type": "code",
   "execution_count": 165,
   "metadata": {
    "id": "GT_AYYkxKPGu"
   },
   "outputs": [],
   "source": [
    "y_pred = rfc.predict(X_test)"
   ]
  },
  {
   "cell_type": "code",
   "execution_count": 166,
   "metadata": {
    "id": "bTlJ3l6XKU5G"
   },
   "outputs": [],
   "source": [
    "def plot_confusion_matrix(y_true, y_pred, classes,\n",
    "                          normalize=False,\n",
    "                          title=None,\n",
    "                          cmap=plt.cm.Blues):\n",
    "    \"\"\"\n",
    "    This function prints and plots the confusion matrix.\n",
    "    Normalization can be applied by setting `normalize=True`.\n",
    "    \"\"\"\n",
    "    if not title:\n",
    "        if normalize:\n",
    "            title = 'Normalized confusion matrix'\n",
    "        else:\n",
    "            title = 'Confusion matrix'\n",
    "\n",
    "    # Compute confusion matrix\n",
    "    cm = confusion_matrix(y_true, y_pred)\n",
    "    # Only use the labels that appear in the data\n",
    "    if normalize:\n",
    "        cm = cm.astype('float') / cm.sum(axis=1)[:, np.newaxis]\n",
    "        print(\"Normalized confusion matrix\")\n",
    "    else:\n",
    "        print('Confusion matrix, without normalization')\n",
    "\n",
    "    print(cm)\n",
    "\n",
    "    fig, ax = plt.subplots()\n",
    "    im = ax.imshow(cm, interpolation='nearest', cmap=cmap)\n",
    "    ax.figure.colorbar(im, ax=ax)\n",
    "    # We want to show all ticks...\n",
    "    ax.set(xticks=np.arange(cm.shape[1]),\n",
    "           yticks=np.arange(cm.shape[0]),\n",
    "           # ... and label them with the respective list entries\n",
    "           xticklabels=classes, yticklabels=classes,\n",
    "           title=title,\n",
    "           ylabel='True label',\n",
    "           xlabel='Predicted label')\n",
    "\n",
    "    # Rotate the tick labels and set their alignment.\n",
    "    plt.setp(ax.get_xticklabels(), rotation=45, ha=\"right\",\n",
    "             rotation_mode=\"anchor\")\n",
    "\n",
    "    # Loop over data dimensions and create text annotations.\n",
    "    fmt = '.2f' if normalize else 'd'\n",
    "    thresh = cm.max() / 2.\n",
    "    for i in range(cm.shape[0]):\n",
    "        for j in range(cm.shape[1]):\n",
    "            ax.text(j, i, format(cm[i, j], fmt),\n",
    "                    ha=\"center\", va=\"center\",\n",
    "                    color=\"white\" if cm[i, j] > thresh else \"black\")\n",
    "    fig.tight_layout()\n",
    "    return ax"
   ]
  },
  {
   "cell_type": "code",
   "execution_count": 167,
   "metadata": {
    "colab": {
     "base_uri": "https://localhost:8080/",
     "height": 477
    },
    "id": "G2ENhXPrKaCn",
    "outputId": "037f9899-6408-4d08-cf55-ae5f41ad2527"
   },
   "outputs": [
    {
     "name": "stdout",
     "output_type": "stream",
     "text": [
      "Confusion matrix, without normalization\n",
      "[[28  0  0  0  0  1  0  0]\n",
      " [ 0  6  0  0  0  0  0  0]\n",
      " [ 0  0 39  0  0  0  0  0]\n",
      " [ 0  0  0  3  0  0  0  3]\n",
      " [ 1  1  0  0 10  0  0  0]\n",
      " [ 1  0  0  0  0 23  1  0]\n",
      " [ 2  0  0  0  0  0  5  0]\n",
      " [ 0  3  0  0  0  0  0  2]]\n"
     ]
    },
    {
     "data": {
      "text/plain": [
       "<AxesSubplot:title={'center':'Confusion matrix for Random Forest'}, xlabel='Predicted label', ylabel='True label'>"
      ]
     },
     "execution_count": 167,
     "metadata": {},
     "output_type": "execute_result"
    },
    {
     "data": {
      "image/png": "[encoded data removed]",
      "text/plain": [
       "<Figure size 432x288 with 2 Axes>"
      ]
     },
     "metadata": {},
     "output_type": "display_data"
    }
   ],
   "source": [
    "\n",
    "# Confusion matrix\n",
    "definitions = ['Afador', 'Affenhuahua','Affenpinscher','Afghan Hound','Airedale Terrier','Akbash','Akita','Akita Pit']\n",
    "# reversefactor = dict(zip(range(4),definitions))\n",
    "# actual = np.vectorize(reversefactor.get)(y_test)\n",
    "# pred = np.vectorize(reversefactor.get)(y_pred)\n",
    "# print(pd.crosstab(actual, pred, rownames=['Actual Mood'], colnames=['Predicted Mood']))\n",
    "\n",
    "plot_confusion_matrix(y_test, y_pred, classes=definitions,\n",
    "                      title='Confusion matrix for Random Forest')"
   ]
  },
  {
   "cell_type": "code",
   "execution_count": 168,
   "metadata": {
    "colab": {
     "base_uri": "https://localhost:8080/"
    },
    "id": "ttjTR8dULyN-",
    "outputId": "bfca7336-af60-4a99-b416-d71cce1ab7c8"
   },
   "outputs": [
    {
     "name": "stdout",
     "output_type": "stream",
     "text": [
      "Accuracy: 0.8992248062015504\n"
     ]
    }
   ],
   "source": [
    "# Model Accuracy, how often is the classifier correct?\n",
    "print(\"Accuracy:\",metrics.accuracy_score(y_test, y_pred))"
   ]
  },
  {
   "cell_type": "code",
   "execution_count": 169,
   "metadata": {},
   "outputs": [],
   "source": [
    "df.to_csv('data-after-clustering.csv')"
   ]
  },
  {
   "cell_type": "code",
   "execution_count": null,
   "metadata": {},
   "outputs": [],
   "source": []
  }
 ],
 "metadata": {
  "colab": {
   "name": "Breed.ipynb",
   "provenance": []
  },
  "kernelspec": {
   "display_name": "Python 3",
   "language": "python",
   "name": "python3"
  },
  "language_info": {
   "codemirror_mode": {
    "name": "ipython",
    "version": 3
   },
   "file_extension": ".py",
   "mimetype": "text/x-python",
   "name": "python",
   "nbconvert_exporter": "python",
   "pygments_lexer": "ipython3",
   "version": "3.8.5"
  }
 },
 "nbformat": 4,
 "nbformat_minor": 1
}
